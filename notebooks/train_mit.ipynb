{
 "cells": [
  {
   "cell_type": "code",
   "execution_count": 1,
   "id": "b4e98c8c-0dde-452a-97c4-ca4c0efe6196",
   "metadata": {},
   "outputs": [],
   "source": [
    "import sys, os\n",
    "import torch, wandb\n",
    "import torch.nn as nn\n",
    "from torch.utils.data import DataLoader\n",
    "sys.path.append(os.path.abspath(os.path.join(os.curdir, '..')))"
   ]
  },
  {
   "cell_type": "code",
   "execution_count": 2,
   "id": "2b5588df-df8d-4c86-93c1-94fd6a53bfce",
   "metadata": {},
   "outputs": [
    {
     "name": "stderr",
     "output_type": "stream",
     "text": [
      "/home/v.lomtev/env/CIL/lib/python3.12/site-packages/tqdm/auto.py:21: TqdmWarning: IProgress not found. Please update jupyter and ipywidgets. See https://ipywidgets.readthedocs.io/en/stable/user_install.html\n",
      "  from .autonotebook import tqdm as notebook_tqdm\n"
     ]
    }
   ],
   "source": [
    "from configs import unet_mit_config as config\n",
    "from models.unet_mit import Unet\n",
    "from datasets.depth_dataset import DepthDataset\n",
    "import utils.train_utils as tu\n",
    "from utils.train_utils import train_model"
   ]
  },
  {
   "cell_type": "code",
   "execution_count": 3,
   "id": "eecced10-33c1-409e-8540-1ecf93762691",
   "metadata": {},
   "outputs": [
    {
     "name": "stdout",
     "output_type": "stream",
     "text": [
      "Train size: 20375, Validation size: 3596, Test size: 650\n"
     ]
    }
   ],
   "source": [
    "# Set a fixed random seed for reproducibility\n",
    "torch.manual_seed(config.random_seed)\n",
    "\n",
    "train_full_dataset = DepthDataset(\n",
    "    data_dir=os.path.join(config.dataset_path, 'train/train'),\n",
    "    list_file=os.path.join(config.dataset_path, 'train_list.txt'), \n",
    "    transform=config.transform_train,\n",
    "    target_transform=config.target_transform,\n",
    "    has_gt=True)\n",
    "    \n",
    "    # Create test dataset without ground truth\n",
    "test_dataset = DepthDataset(\n",
    "    data_dir=os.path.join(config.dataset_path, 'test/test'),\n",
    "    list_file=os.path.join(config.dataset_path, 'test_list.txt'),\n",
    "    transform=config.transform_val,\n",
    "    has_gt=False)  # Test set has no ground truth\n",
    "    \n",
    "# Split training dataset into train and validation\n",
    "total_size = len(train_full_dataset)\n",
    "train_size = int((1-config.val_part) * total_size)  \n",
    "val_size = total_size - train_size    \n",
    "    \n",
    "train_dataset, val_dataset = torch.utils.data.random_split(\n",
    "    train_full_dataset, [train_size, val_size]\n",
    ")\n",
    "#val_dataset.transform = config.transform_val # I dont think we need to use augmentations for validation\n",
    "\n",
    "# Create data loaders with memory optimizations\n",
    "train_loader = DataLoader(\n",
    "    train_dataset, \n",
    "    batch_size=config.train_bs, \n",
    "    shuffle=True, \n",
    "    num_workers=config.num_workers, \n",
    "    pin_memory=True,\n",
    "    drop_last=True,\n",
    "    persistent_workers=True\n",
    ")\n",
    "    \n",
    "    \n",
    "val_loader = DataLoader(\n",
    "    val_dataset, \n",
    "    batch_size=config.val_bs, \n",
    "    shuffle=False, \n",
    "    num_workers=config.num_workers, \n",
    "    pin_memory=True\n",
    ")\n",
    "    \n",
    "test_loader = DataLoader(\n",
    "    test_dataset, \n",
    "    batch_size=config.val_bs, \n",
    "    shuffle=False, \n",
    "    num_workers=config.num_workers, \n",
    "    pin_memory=True\n",
    ")\n",
    "\n",
    "print(f\"Train size: {len(train_dataset)}, Validation size: {len(val_dataset)}, Test size: {len(test_dataset)}\")"
   ]
  },
  {
   "cell_type": "code",
   "execution_count": 4,
   "id": "08f0b47b-c997-4c83-8f78-2ce6b01e9b94",
   "metadata": {},
   "outputs": [
    {
     "name": "stdout",
     "output_type": "stream",
     "text": [
      "Using device: cuda:2\n"
     ]
    }
   ],
   "source": [
    "model = config.model()\n",
    "# #model = nn.DataParallel(model)\n",
    "\n",
    "\n",
    "optimizer = config.optimizer(model.parameters())\n",
    "print(f\"Using device: {config.device}\")\n"
   ]
  },
  {
   "cell_type": "code",
   "execution_count": 5,
   "id": "3b6d3abe-83a2-40ba-9fb7-cf614cba54d0",
   "metadata": {},
   "outputs": [],
   "source": [
    "exp_name = \"MiT_mixedloss_normalizedlog\""
   ]
  },
  {
   "cell_type": "code",
   "execution_count": 6,
   "id": "89492ecc-1d43-40f3-af88-ce7a3cdfc7f9",
   "metadata": {},
   "outputs": [
    {
     "data": {
      "text/plain": [
       "<All keys matched successfully>"
      ]
     },
     "execution_count": 6,
     "metadata": {},
     "output_type": "execute_result"
    }
   ],
   "source": [
    "#checkpoint = torch.load('/home/v.lomtev/CIL/CIL_2025/data/MiT_mixedloss_normalizedlog/best_model_31.pt', map_location=config.device)  # Explicit device\n",
    "#model.load_state_dict(checkpoint)"
   ]
  },
  {
   "cell_type": "code",
   "execution_count": null,
   "id": "35007cf9-9d7d-4324-b701-0f1cf6b987d4",
   "metadata": {},
   "outputs": [],
   "source": [
    "print(\"Starting training...\")\n",
    "with wandb.init(project=\"CIL\",\n",
    "                save_code=True,\n",
    "                notes=config.WANDB_NOTES):\n",
    "    model = train_model(model, train_loader, val_loader,\n",
    "                        config.loss, optimizer, config.epochs, config.device,\n",
    "                       exp_path=os.path.join(config.dataset_path, exp_name), log_input=True)"
   ]
  },
  {
   "cell_type": "code",
   "execution_count": 7,
   "id": "324756ad-f148-42a9-a5fc-4e642936a31f",
   "metadata": {},
   "outputs": [
    {
     "name": "stderr",
     "output_type": "stream",
     "text": [
      "Evaluating: 100%|█████████████████████████████████████████████████████████████████████████████████████████████████████████████████████████████████████████████████████████| 450/450 [01:39<00:00,  4.51it/s]\n"
     ]
    },
    {
     "data": {
      "text/plain": [
       "{'MAE': 0.1384386278295876,\n",
       " 'RMSE': 0.23691814302970687,\n",
       " 'siRMSE': 0.060498922668061776,\n",
       " 'REL': 0.05082399913893178,\n",
       " 'Delta1': 0.9852262280580032,\n",
       " 'Delta2': 0.9976687269519975,\n",
       " 'Delta3': 0.9994365362549789}"
      ]
     },
     "execution_count": 7,
     "metadata": {},
     "output_type": "execute_result"
    }
   ],
   "source": [
    "tu.evaluate_model(model, val_loader, config.device,\n",
    "                  exp_path=os.path.join(config.dataset_path, exp_name), log_input=True)"
   ]
  },
  {
   "cell_type": "code",
   "execution_count": 10,
   "id": "6da9c05b-9ac2-48fa-b9d6-74aaa4ba274d",
   "metadata": {},
   "outputs": [
    {
     "name": "stderr",
     "output_type": "stream",
     "text": [
      "Generating Test Predictions: 100%|██████████████████████████████████████████████████████████████████████████████████████████████████████████████████████████████████████████| 82/82 [00:15<00:00,  5.15it/s]\n"
     ]
    }
   ],
   "source": [
    "tu.generate_test_predictions(model, test_loader, config.device,\n",
    "                             exp_path=os.path.join(config.dataset_path, exp_name), log_input=True)"
   ]
  },
  {
   "cell_type": "code",
   "execution_count": 7,
   "id": "d5ea0917-69ee-493d-bdeb-8aa04bc375d3",
   "metadata": {},
   "outputs": [
    {
     "name": "stderr",
     "output_type": "stream",
     "text": [
      "Visualizing: 100%|██████████████████████████████████████████████████████████████████████████████████████████████████████████████████████████████████████████████████████████| 82/82 [10:29<00:00,  7.68s/it]\n"
     ]
    }
   ],
   "source": [
    "tu.visualize_test_predictions(model, test_loader, config.device,\n",
    "                              exp_path=os.path.join(config.dataset_path, exp_name), log_input=True)"
   ]
  },
  {
   "cell_type": "code",
   "execution_count": null,
   "id": "6d346f82-04ed-46b7-ae5a-244be58ea322",
   "metadata": {},
   "outputs": [],
   "source": []
  }
 ],
 "metadata": {
  "kernelspec": {
   "display_name": "CIL",
   "language": "python",
   "name": "cil"
  },
  "language_info": {
   "codemirror_mode": {
    "name": "ipython",
    "version": 3
   },
   "file_extension": ".py",
   "mimetype": "text/x-python",
   "name": "python",
   "nbconvert_exporter": "python",
   "pygments_lexer": "ipython3",
   "version": "3.12.3"
  }
 },
 "nbformat": 4,
 "nbformat_minor": 5
}
