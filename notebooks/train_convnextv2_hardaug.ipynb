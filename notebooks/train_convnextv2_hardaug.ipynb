{
 "cells": [
  {
   "cell_type": "code",
   "execution_count": 1,
   "id": "b4e98c8c-0dde-452a-97c4-ca4c0efe6196",
   "metadata": {},
   "outputs": [],
   "source": [
    "import sys, os\n",
    "import torch, wandb\n",
    "import torch.nn as nn\n",
    "from torch.utils.data import DataLoader\n",
    "sys.path.append(os.path.abspath(os.path.join(os.curdir, '..')))"
   ]
  },
  {
   "cell_type": "code",
   "execution_count": 2,
   "id": "2b5588df-df8d-4c86-93c1-94fd6a53bfce",
   "metadata": {},
   "outputs": [
    {
     "name": "stderr",
     "output_type": "stream",
     "text": [
      "/home/v.lomtev/audio_ml/python_CIL/lib/python3.12/site-packages/tqdm/auto.py:21: TqdmWarning: IProgress not found. Please update jupyter and ipywidgets. See https://ipywidgets.readthedocs.io/en/stable/user_install.html\n",
      "  from .autonotebook import tqdm as notebook_tqdm\n",
      "/home/v.lomtev/audio_ml/python_CIL/lib/python3.12/site-packages/timm/models/layers/__init__.py:48: FutureWarning: Importing from timm.models.layers is deprecated, please import via timm.layers\n",
      "  warnings.warn(f\"Importing from {__name__} is deprecated, please import via timm.layers\", FutureWarning)\n",
      "/home/v.lomtev/audio_ml/python_CIL/lib/python3.12/site-packages/albumentations/core/validation.py:87: UserWarning: ShiftScaleRotate is a special case of Affine transform. Please use Affine transform instead.\n",
      "  original_init(self, **validated_kwargs)\n"
     ]
    }
   ],
   "source": [
    "from configs import unet_convnextv2_hard_aug_config as config\n",
    "from models.unet_convnextv2 import Unet\n",
    "from datasets.depth_dataset import DepthDataset\n",
    "from utils.train_utils import train_model"
   ]
  },
  {
   "cell_type": "code",
   "execution_count": 12,
   "id": "eecced10-33c1-409e-8540-1ecf93762691",
   "metadata": {},
   "outputs": [
    {
     "name": "stdout",
     "output_type": "stream",
     "text": [
      "Train size: 20375, Validation size: 3596, Test size: 650\n"
     ]
    }
   ],
   "source": [
    "# Set a fixed random seed for reproducibility\n",
    "torch.manual_seed(config.random_seed+1)\n",
    "\n",
    "train_full_dataset = DepthDataset(\n",
    "    data_dir=os.path.join(config.dataset_path, 'train/train'),\n",
    "    list_file=os.path.join(config.dataset_path, 'train_list.txt'), \n",
    "    transform=config.transform_train,\n",
    "    target_transform=config.target_transform,\n",
    "    has_gt=True,\n",
    "    use_albumentations=True)\n",
    "    \n",
    "    # Create test dataset without ground truth\n",
    "test_dataset = DepthDataset(\n",
    "    data_dir=os.path.join(config.dataset_path, 'test/test'),\n",
    "    list_file=os.path.join(config.dataset_path, 'test_list.txt'),\n",
    "    transform=config.transform_val,\n",
    "    has_gt=False,\n",
    "    use_albumentations=True)  # Test set has no ground truth\n",
    "    \n",
    "# Split training dataset into train and validation\n",
    "total_size = len(train_full_dataset)\n",
    "train_size = int((1-config.val_part) * total_size)  \n",
    "val_size = total_size - train_size    \n",
    "    \n",
    "train_dataset, val_dataset = torch.utils.data.random_split(\n",
    "    train_full_dataset, [train_size, val_size]\n",
    ")\n",
    "val_dataset.transform = config.transform_val # I dont think we need to use augmentations for validation\n",
    "\n",
    "# Create data loaders with memory optimizations\n",
    "train_loader = DataLoader(\n",
    "    train_dataset, \n",
    "    batch_size=config.train_bs, \n",
    "    shuffle=True, \n",
    "    num_workers=config.num_workers, \n",
    "    pin_memory=True,\n",
    "    drop_last=True,\n",
    "    persistent_workers=True\n",
    ")\n",
    "    \n",
    "    \n",
    "val_loader = DataLoader(\n",
    "    val_dataset, \n",
    "    batch_size=config.val_bs, \n",
    "    shuffle=False, \n",
    "    num_workers=config.num_workers, \n",
    "    pin_memory=True\n",
    ")\n",
    "    \n",
    "test_loader = DataLoader(\n",
    "    test_dataset, \n",
    "    batch_size=config.val_bs, \n",
    "    shuffle=False, \n",
    "    num_workers=config.num_workers, \n",
    "    pin_memory=True\n",
    ")\n",
    "\n",
    "print(f\"Train size: {len(train_dataset)}, Validation size: {len(val_dataset)}, Test size: {len(test_dataset)}\")"
   ]
  },
  {
   "cell_type": "code",
   "execution_count": 4,
   "id": "08f0b47b-c997-4c83-8f78-2ce6b01e9b94",
   "metadata": {},
   "outputs": [
    {
     "name": "stdout",
     "output_type": "stream",
     "text": [
      "Using device: cuda:3\n"
     ]
    }
   ],
   "source": [
    "model = config.model()\n",
    "# #model = nn.DataParallel(model)\n",
    "\n",
    "\n",
    "optimizer = config.optimizer(model.parameters())\n",
    "print(f\"Using device: {config.device}\")\n",
    "CIL/data/convnextv2_hardaug_mixedloss_cont/best_model_28.pt"
   ]
  },
  {
   "cell_type": "code",
   "execution_count": 7,
   "id": "b07399df-2b92-42f5-9f71-269d3b958cfb",
   "metadata": {},
   "outputs": [
    {
     "data": {
      "text/plain": [
       "<All keys matched successfully>"
      ]
     },
     "execution_count": 7,
     "metadata": {},
     "output_type": "execute_result"
    }
   ],
   "source": [
    "exp_name = \"convnextv2_hardaug_mixedloss_cont\"\n",
    "model.load_state_dict(torch.load(\"/home/v.lomtev/CIL/data/convnextv2_hardaug_mixedloss_cont/best_model_28.pt\"))"
   ]
  },
  {
   "cell_type": "code",
   "execution_count": null,
   "id": "35007cf9-9d7d-4324-b701-0f1cf6b987d4",
   "metadata": {},
   "outputs": [],
   "source": [
    "print(\"Starting training...\")\n",
    "exp_name = \"convnextv2_hardaug_mixedloss_cont\"\n",
    "with wandb.init(project=\"CIL\",\n",
    "                save_code=True,\n",
    "                notes=config.WANDB_NOTES):\n",
    "    model = train_model(model, train_loader, val_loader,\n",
    "                        config.loss, optimizer, config.epochs, config.device,\n",
    "                       exp_path=os.path.join(config.dataset_path, exp_name),\n",
    "                       mask_indicator=config.additional_params[\"MASK_INDICATOR\"])"
   ]
  },
  {
   "cell_type": "code",
   "execution_count": 8,
   "id": "db42cf70-7b33-40d4-8c77-b10083f459e3",
   "metadata": {},
   "outputs": [
    {
     "data": {
      "text/plain": [
       "<All keys matched successfully>"
      ]
     },
     "execution_count": 8,
     "metadata": {},
     "output_type": "execute_result"
    }
   ],
   "source": []
  },
  {
   "cell_type": "code",
   "execution_count": 8,
   "id": "b3559f0a-8652-4c5c-9994-03b217e83417",
   "metadata": {},
   "outputs": [],
   "source": [
    "import utils.train_utils as tu"
   ]
  },
  {
   "cell_type": "code",
   "execution_count": 10,
   "id": "5b0d7434-2e14-42c4-9211-7771cbda8313",
   "metadata": {},
   "outputs": [],
   "source": [
    "exp_name = \"convnextv2_hardaug_mixedloss_cont\""
   ]
  },
  {
   "cell_type": "code",
   "execution_count": 13,
   "id": "324756ad-f148-42a9-a5fc-4e642936a31f",
   "metadata": {},
   "outputs": [
    {
     "name": "stderr",
     "output_type": "stream",
     "text": [
      "Evaluating:  42%|████████████████████████████████████████████████████████████████▎                                                                                         | 94/225 [00:40<00:56,  2.32it/s]\n"
     ]
    },
    {
     "ename": "KeyboardInterrupt",
     "evalue": "",
     "output_type": "error",
     "traceback": [
      "\u001b[31m---------------------------------------------------------------------------\u001b[39m",
      "\u001b[31mKeyboardInterrupt\u001b[39m                         Traceback (most recent call last)",
      "\u001b[36mCell\u001b[39m\u001b[36m \u001b[39m\u001b[32mIn[13]\u001b[39m\u001b[32m, line 4\u001b[39m\n\u001b[32m      2\u001b[39m \u001b[38;5;28;01mimport\u001b[39;00m\u001b[38;5;250m \u001b[39m\u001b[34;01mimportlib\u001b[39;00m\n\u001b[32m      3\u001b[39m importlib.reload(tu)\n\u001b[32m----> \u001b[39m\u001b[32m4\u001b[39m \u001b[43mtu\u001b[49m\u001b[43m.\u001b[49m\u001b[43mevaluate_model\u001b[49m\u001b[43m(\u001b[49m\u001b[43mmodel\u001b[49m\u001b[43m,\u001b[49m\u001b[43m \u001b[49m\u001b[43mval_loader\u001b[49m\u001b[43m,\u001b[49m\u001b[43m \u001b[49m\u001b[43mconfig\u001b[49m\u001b[43m.\u001b[49m\u001b[43mdevice\u001b[49m\u001b[43m,\u001b[49m\n\u001b[32m      5\u001b[39m \u001b[43m                  \u001b[49m\u001b[43mexp_path\u001b[49m\u001b[43m=\u001b[49m\u001b[43mos\u001b[49m\u001b[43m.\u001b[49m\u001b[43mpath\u001b[49m\u001b[43m.\u001b[49m\u001b[43mjoin\u001b[49m\u001b[43m(\u001b[49m\u001b[43mconfig\u001b[49m\u001b[43m.\u001b[49m\u001b[43mdataset_path\u001b[49m\u001b[43m,\u001b[49m\u001b[43m \u001b[49m\u001b[43mexp_name\u001b[49m\u001b[43m)\u001b[49m\u001b[43m)\u001b[49m\n",
      "\u001b[36mFile \u001b[39m\u001b[32m~/CIL/utils/train_utils.py:150\u001b[39m, in \u001b[36mevaluate_model\u001b[39m\u001b[34m(model, val_loader, device, exp_path, epoch, mask_indicator)\u001b[39m\n\u001b[32m    148\u001b[39m \u001b[38;5;66;03m# Calculate metrics\u001b[39;00m\n\u001b[32m    149\u001b[39m abs_diff = torch.abs(outputs - targets)\n\u001b[32m--> \u001b[39m\u001b[32m150\u001b[39m mae += \u001b[43mtorch\u001b[49m\u001b[43m.\u001b[49m\u001b[43msum\u001b[49m\u001b[43m(\u001b[49m\u001b[43mabs_diff\u001b[49m\u001b[43m)\u001b[49m\u001b[43m.\u001b[49m\u001b[43mitem\u001b[49m\u001b[43m(\u001b[49m\u001b[43m)\u001b[49m\n\u001b[32m    151\u001b[39m rmse += torch.sum(torch.pow(abs_diff, \u001b[32m2\u001b[39m)).item()\n\u001b[32m    152\u001b[39m rel += torch.sum(abs_diff / (targets + \u001b[32m1e-6\u001b[39m)).item()\n",
      "\u001b[31mKeyboardInterrupt\u001b[39m: "
     ]
    }
   ],
   "source": [
    "from utils.train_utils import evaluate_model\n",
    "import importlib\n",
    "importlib.reload(tu)\n",
    "tu.evaluate_model(model, val_loader, config.device,\n",
    "                  exp_path=os.path.join(config.dataset_path, exp_name))"
   ]
  },
  {
   "cell_type": "code",
   "execution_count": null,
   "id": "260b0e31-f0c2-4da0-a4dd-1b7629e8cdc2",
   "metadata": {},
   "outputs": [],
   "source": [
    "from utils.train_utils import evaluate_model\n",
    "import importlib\n",
    "importlib.reload(tu)\n",
    "tu.evaluate_model(model, val_loader, config.device,\n",
    "                  exp_path=os.path.join(config.dataset_path, exp_name))"
   ]
  },
  {
   "cell_type": "code",
   "execution_count": 14,
   "id": "6da9c05b-9ac2-48fa-b9d6-74aaa4ba274d",
   "metadata": {},
   "outputs": [
    {
     "name": "stderr",
     "output_type": "stream",
     "text": [
      "Generating Test Predictions: 100%|██████████████████████████████████████████████████████████████████████████████████████████████████████████████████████████████████████████| 41/41 [00:09<00:00,  4.48it/s]\n"
     ]
    }
   ],
   "source": [
    "importlib.reload(tu)\n",
    "tu.generate_test_predictions(model, test_loader, config.device,\n",
    "                             exp_path=os.path.join(config.dataset_path, exp_name))"
   ]
  },
  {
   "cell_type": "code",
   "execution_count": 15,
   "id": "d5ea0917-69ee-493d-bdeb-8aa04bc375d3",
   "metadata": {},
   "outputs": [
    {
     "name": "stderr",
     "output_type": "stream",
     "text": [
      "Visualizing: 100%|██████████████████████████████████████████████████████████████████████████████████████████████████████████████████████████████████████████████████████████| 41/41 [04:40<00:00,  6.84s/it]\n"
     ]
    }
   ],
   "source": [
    "importlib.reload(tu)\n",
    "tu.visualize_test_predictions(model, test_loader, config.device,\n",
    "                              exp_path=os.path.join(config.dataset_path, exp_name))"
   ]
  },
  {
   "cell_type": "code",
   "execution_count": null,
   "id": "15927917-b416-440c-9488-25d4cb4ac7a7",
   "metadata": {},
   "outputs": [],
   "source": []
  }
 ],
 "metadata": {
  "kernelspec": {
   "display_name": "Python 3 (ipykernel)",
   "language": "python",
   "name": "python3"
  },
  "language_info": {
   "codemirror_mode": {
    "name": "ipython",
    "version": 3
   },
   "file_extension": ".py",
   "mimetype": "text/x-python",
   "name": "python",
   "nbconvert_exporter": "python",
   "pygments_lexer": "ipython3",
   "version": "3.12.3"
  }
 },
 "nbformat": 4,
 "nbformat_minor": 5
}
