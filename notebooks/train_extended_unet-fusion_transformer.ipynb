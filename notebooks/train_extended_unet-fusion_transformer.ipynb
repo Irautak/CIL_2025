{
 "cells": [
  {
   "cell_type": "markdown",
   "id": "df208ca2",
   "metadata": {},
   "source": [
    "### Training Vlads model by first stacking the depths from the Sota models"
   ]
  },
  {
   "cell_type": "code",
   "execution_count": 1,
   "id": "67c5f855",
   "metadata": {},
   "outputs": [
    {
     "name": "stderr",
     "output_type": "stream",
     "text": [
      "/home/v.lomtev/env/python3.12_vlad/lib/python3.12/site-packages/tqdm/auto.py:21: TqdmWarning: IProgress not found. Please update jupyter and ipywidgets. See https://ipywidgets.readthedocs.io/en/stable/user_install.html\n",
      "  from .autonotebook import tqdm as notebook_tqdm\n"
     ]
    }
   ],
   "source": [
    "import sys, os\n",
    "import torch, wandb\n",
    "import torch.nn as nn\n",
    "from torch.utils.data import DataLoader\n",
    "sys.path.append(os.path.abspath(os.path.join(os.curdir, '..')))\n",
    "from configs import extended_unet_fusion_config as config\n",
    "from models.unet_mit import Unet\n",
    "from datasets.combination_depth_dataset import CombDepthDataset\n",
    "from models.fusion_models import TransformerFusionModel\n",
    "from models.combination_model import CombinedModel\n",
    "from utils.train_utils import train_model\n",
    "import utils.train_utils as tu"
   ]
  },
  {
   "cell_type": "code",
   "execution_count": 2,
   "id": "a6233118",
   "metadata": {},
   "outputs": [
    {
     "name": "stdout",
     "output_type": "stream",
     "text": [
      "Train size: 20375, Validation size: 3596, Test size: 650\n"
     ]
    }
   ],
   "source": [
    "# Set a fixed random seed for reproducibility\n",
    "torch.manual_seed(config.random_seed)\n",
    "\n",
    "train_full_dataset = CombDepthDataset(\n",
    "    data_dir=os.path.join(config.dataset_path, 'train/train'),\n",
    "    depths_dir=config.depth_maps_path,\n",
    "    list_file=os.path.join(config.dataset_path, 'train_list.txt'),\n",
    "    transform=config.padded_transform,\n",
    "    target_transform=config.target_transform,\n",
    "    has_gt=True,\n",
    "    depth_model_names=config.depth_model_names,\n",
    "    uncertainty_dir=None,\n",
    "    use_uncertainty=None)\n",
    "    \n",
    "    # Create test dataset without ground truth\n",
    "test_dataset = CombDepthDataset(\n",
    "    data_dir=os.path.join(config.dataset_path, 'test/test'),\n",
    "    depths_dir=os.path.join(config.depth_maps_path, 'test'),\n",
    "    list_file=os.path.join(config.dataset_path, 'test_list.txt'),\n",
    "    transform=config.padded_transform,\n",
    "    has_gt=False,\n",
    "    depth_model_names=config.depth_model_names,\n",
    "    uncertainty_dir=None,\n",
    "    use_uncertainty=None)  # Test set has no ground truth\n",
    "    \n",
    "# Split training dataset into train and validation\n",
    "total_size = len(train_full_dataset)\n",
    "train_size = int((1-config.val_part) * total_size)  \n",
    "val_size = total_size - train_size    \n",
    "    \n",
    "train_dataset, val_dataset = torch.utils.data.random_split(\n",
    "    train_full_dataset, [train_size, val_size]\n",
    ")\n",
    "#val_dataset.transform = config.transform_val # I dont think we need to use augmentations for validation\n",
    "\n",
    "\n",
    "# Create data loaders with memory optimizations\n",
    "train_loader = DataLoader(\n",
    "    train_dataset, \n",
    "    batch_size=config.train_bs, \n",
    "    shuffle=True, \n",
    "    num_workers=config.num_workers, \n",
    "    pin_memory=True,\n",
    "    drop_last=True,\n",
    "    persistent_workers=True,\n",
    ")\n",
    "    \n",
    "    \n",
    "val_loader = DataLoader(\n",
    "    val_dataset, \n",
    "    batch_size=config.val_bs, \n",
    "    shuffle=False, \n",
    "    num_workers=config.num_workers, \n",
    "    pin_memory=True\n",
    ")\n",
    "    \n",
    "test_loader = DataLoader(\n",
    "    test_dataset, \n",
    "    batch_size=config.val_bs, \n",
    "    shuffle=False, \n",
    "    num_workers=config.num_workers, \n",
    "    pin_memory=True\n",
    ")\n",
    "\n",
    "print(f\"Train size: {len(train_dataset)}, Validation size: {len(val_dataset)}, Test size: {len(test_dataset)}\")"
   ]
  },
  {
   "cell_type": "code",
   "execution_count": 3,
   "id": "cea10740",
   "metadata": {},
   "outputs": [
    {
     "name": "stdout",
     "output_type": "stream",
     "text": [
      "Num channels: 4\n"
     ]
    }
   ],
   "source": [
    "model = config.model()\n",
    "\n",
    "\n"
   ]
  },
  {
   "cell_type": "code",
   "execution_count": 4,
   "id": "10df78d8-b4b3-41e9-a684-8b6dc3804a65",
   "metadata": {},
   "outputs": [],
   "source": [
    "fusion_model = TransformerFusionModel(input_channels=len(test_dataset.depth_model_names)).to(config.device)\n",
    "model = CombinedModel(fusion_model=fusion_model, unet_model=model, use_uncertainty=False).to(config.device)"
   ]
  },
  {
   "cell_type": "code",
   "execution_count": 5,
   "id": "2c36ae3d-44fd-4648-95c8-c41cb05092fa",
   "metadata": {},
   "outputs": [
    {
     "name": "stdout",
     "output_type": "stream",
     "text": [
      "Using device: cuda:3\n"
     ]
    }
   ],
   "source": [
    "optimizer = config.optimizer(model.parameters())\n",
    "print(f\"Using device: {config.device}\")"
   ]
  },
  {
   "cell_type": "code",
   "execution_count": 6,
   "id": "90dbea4b-78a8-47e7-a7e1-6aa680dec5c2",
   "metadata": {},
   "outputs": [],
   "source": [
    "#exp_name = \"extended_unet_sota_depths\"\n",
    "#model.load_state_dict(torch.load(f'{os.path.join(config.dataset_path, exp_name)}/best_model_43.pt'))"
   ]
  },
  {
   "cell_type": "code",
   "execution_count": null,
   "id": "e3393a83",
   "metadata": {},
   "outputs": [
    {
     "name": "stdout",
     "output_type": "stream",
     "text": [
      "Starting training...\n"
     ]
    },
    {
     "name": "stderr",
     "output_type": "stream",
     "text": [
      "\u001b[34m\u001b[1mwandb\u001b[0m: Currently logged in as: \u001b[33mnoloo\u001b[0m to \u001b[32mhttps://api.wandb.ai\u001b[0m. Use \u001b[1m`wandb login --relogin`\u001b[0m to force relogin\n"
     ]
    },
    {
     "data": {
      "text/html": [
       "Tracking run with wandb version 0.19.11"
      ],
      "text/plain": [
       "<IPython.core.display.HTML object>"
      ]
     },
     "metadata": {},
     "output_type": "display_data"
    },
    {
     "data": {
      "text/html": [
       "Run data is saved locally in <code>/home/v.lomtev/CIL/CIL_2025/notebooks/wandb/run-20250530_051403-175e1cip</code>"
      ],
      "text/plain": [
       "<IPython.core.display.HTML object>"
      ]
     },
     "metadata": {},
     "output_type": "display_data"
    },
    {
     "data": {
      "text/html": [
       "Syncing run <strong><a href='https://wandb.ai/noloo/MonocularDepthEstimation/runs/175e1cip' target=\"_blank\">spring-donkey-16</a></strong> to <a href='https://wandb.ai/noloo/MonocularDepthEstimation' target=\"_blank\">Weights & Biases</a> (<a href='https://wandb.me/developer-guide' target=\"_blank\">docs</a>)<br>"
      ],
      "text/plain": [
       "<IPython.core.display.HTML object>"
      ]
     },
     "metadata": {},
     "output_type": "display_data"
    },
    {
     "data": {
      "text/html": [
       " View project at <a href='https://wandb.ai/noloo/MonocularDepthEstimation' target=\"_blank\">https://wandb.ai/noloo/MonocularDepthEstimation</a>"
      ],
      "text/plain": [
       "<IPython.core.display.HTML object>"
      ]
     },
     "metadata": {},
     "output_type": "display_data"
    },
    {
     "data": {
      "text/html": [
       " View run at <a href='https://wandb.ai/noloo/MonocularDepthEstimation/runs/175e1cip' target=\"_blank\">https://wandb.ai/noloo/MonocularDepthEstimation/runs/175e1cip</a>"
      ],
      "text/plain": [
       "<IPython.core.display.HTML object>"
      ]
     },
     "metadata": {},
     "output_type": "display_data"
    },
    {
     "name": "stdout",
     "output_type": "stream",
     "text": [
      "Epoch 1/35\n"
     ]
    },
    {
     "name": "stderr",
     "output_type": "stream",
     "text": [
      "Training: 100%|█████████████████████████████████████████████████████████████████████████████████████████████████████████████████████████████████████████████████████████| 2546/2546 [22:27<00:00,  1.89it/s]\n",
      "Validation: 100%|█████████████████████████████████████████████████████████████████████████████████████████████████████████████████████████████████████████████████████████| 225/225 [01:28<00:00,  2.55it/s]\n"
     ]
    },
    {
     "name": "stdout",
     "output_type": "stream",
     "text": [
      "Train Loss: 0.4397, Validation Loss: 0.6493\n",
      "New best model saved at epoch 1 with validation loss: 0.6493\n",
      "Epoch 2/35\n"
     ]
    },
    {
     "name": "stderr",
     "output_type": "stream",
     "text": [
      "Validation: 100%|█████████████████████████████████████████████████████████████████████████████████████████████████████████████████████████████████████████████████████████| 225/225 [01:27<00:00,  2.56it/s]\n"
     ]
    },
    {
     "name": "stdout",
     "output_type": "stream",
     "text": [
      "Train Loss: 0.2747, Validation Loss: 0.3077\n",
      "New best model saved at epoch 2 with validation loss: 0.3077\n",
      "Epoch 3/35\n"
     ]
    },
    {
     "name": "stderr",
     "output_type": "stream",
     "text": [
      "Training: 100%|█████████████████████████████████████████████████████████████████████████████████████████████████████████████████████████████████████████████████████████| 2546/2546 [22:28<00:00,  1.89it/s]\n",
      "Validation: 100%|█████████████████████████████████████████████████████████████████████████████████████████████████████████████████████████████████████████████████████████| 225/225 [01:27<00:00,  2.57it/s]\n"
     ]
    },
    {
     "name": "stdout",
     "output_type": "stream",
     "text": [
      "Train Loss: 0.2340, Validation Loss: 0.2409\n",
      "New best model saved at epoch 3 with validation loss: 0.2409\n",
      "Epoch 4/35\n"
     ]
    },
    {
     "name": "stderr",
     "output_type": "stream",
     "text": [
      "Training:   3%|████▏                                                                                                                                                      | 68/2546 [00:37<21:54,  1.88it/s]IOPub message rate exceeded.\n",
      "The Jupyter server will temporarily stop sending output\n",
      "to the client in order to avoid crashing it.\n",
      "To change this limit, set the config variable\n",
      "`--ServerApp.iopub_msg_rate_limit`.\n",
      "\n",
      "Current values:\n",
      "ServerApp.iopub_msg_rate_limit=1000.0 (msgs/sec)\n",
      "ServerApp.rate_limit_window=3.0 (secs)\n",
      "\n",
      "Training: 100%|█████████████████████████████████████████████████████████████████████████████████████████████████████████████████████████████████████████████████████████| 2546/2546 [22:39<00:00,  1.87it/s]\n",
      "Validation: 100%|█████████████████████████████████████████████████████████████████████████████████████████████████████████████████████████████████████████████████████████| 225/225 [01:27<00:00,  2.58it/s]\n"
     ]
    },
    {
     "name": "stdout",
     "output_type": "stream",
     "text": [
      "Train Loss: 0.1058, Validation Loss: 0.1116\n",
      "New best model saved at epoch 27 with validation loss: 0.1116\n",
      "Epoch 28/35\n"
     ]
    },
    {
     "name": "stderr",
     "output_type": "stream",
     "text": [
      "Training: 100%|█████████████████████████████████████████████████████████████████████████████████████████████████████████████████████████████████████████████████████████| 2546/2546 [22:27<00:00,  1.89it/s]\n",
      "Validation: 100%|█████████████████████████████████████████████████████████████████████████████████████████████████████████████████████████████████████████████████████████| 225/225 [01:26<00:00,  2.60it/s]\n"
     ]
    },
    {
     "name": "stdout",
     "output_type": "stream",
     "text": [
      "Train Loss: 0.1045, Validation Loss: 0.1107\n",
      "New best model saved at epoch 28 with validation loss: 0.1107\n",
      "Epoch 29/35\n"
     ]
    },
    {
     "name": "stderr",
     "output_type": "stream",
     "text": [
      "Training:   6%|█████████▊                                                                                                                                                | 163/2546 [01:27<21:02,  1.89it/s]"
     ]
    }
   ],
   "source": [
    "# Wandb logging\n",
    "exp_name = \"extended_unet_sota_depths_fusion_transformer_pretrain\"\n",
    "\n",
    "print(\"Starting training...\")\n",
    "with wandb.init(project=\"MonocularDepthEstimation\",  #CIL\n",
    "                save_code=True,\n",
    "                notes=config.WANDB_NOTES):\n",
    "    model = train_model(model, train_loader, val_loader,\n",
    "                        config.loss, optimizer, 35, config.device,\n",
    "                       exp_path=os.path.join(config.dataset_path, exp_name),\n",
    "                       is_extended_model=True, use_uncertainty_map=False)"
   ]
  },
  {
   "cell_type": "code",
   "execution_count": 8,
   "id": "fe2af4fe-bb30-419c-a8d1-d50583b8dbf8",
   "metadata": {},
   "outputs": [
    {
     "name": "stderr",
     "output_type": "stream",
     "text": [
      "Generating Test Predictions: 100%|██████████████████████████████████████████████████████████████████████████████████████████████████████████████████████████████████████████| 41/41 [00:16<00:00,  2.53it/s]\n"
     ]
    }
   ],
   "source": [
    "tu.generate_test_predictions(model, test_loader, config.device,\n",
    "                          exp_path=os.path.join(config.dataset_path, exp_name),\n",
    "                            is_exntended_model=True)"
   ]
  },
  {
   "cell_type": "code",
   "execution_count": null,
   "id": "b55c3004-cf68-47f9-b5d1-fb203249886d",
   "metadata": {},
   "outputs": [],
   "source": [
    "\n",
    "importlib.reload(tu)\n",
    "tu.visualize_test_predictions(model, test_loader, config.device,\n",
    "                              exp_path=os.path.join(config.dataset_path, exp_name), is_exntended_model=True)"
   ]
  }
 ],
 "metadata": {
  "kernelspec": {
   "display_name": "Python 3 (ipykernel)",
   "language": "python",
   "name": "python3"
  },
  "language_info": {
   "codemirror_mode": {
    "name": "ipython",
    "version": 3
   },
   "file_extension": ".py",
   "mimetype": "text/x-python",
   "name": "python",
   "nbconvert_exporter": "python",
   "pygments_lexer": "ipython3",
   "version": "3.12.3"
  }
 },
 "nbformat": 4,
 "nbformat_minor": 5
}
