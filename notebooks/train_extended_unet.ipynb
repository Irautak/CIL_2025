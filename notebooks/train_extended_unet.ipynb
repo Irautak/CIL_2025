{
 "cells": [
  {
   "cell_type": "markdown",
   "id": "df208ca2",
   "metadata": {},
   "source": [
    "### Training Vlads model by first stacking the depths from the Sota models"
   ]
  },
  {
   "cell_type": "code",
   "execution_count": 1,
   "id": "67c5f855",
   "metadata": {},
   "outputs": [
    {
     "name": "stderr",
     "output_type": "stream",
     "text": [
      "/home/v.lomtev/env/python3.12_vlad/lib/python3.12/site-packages/tqdm/auto.py:21: TqdmWarning: IProgress not found. Please update jupyter and ipywidgets. See https://ipywidgets.readthedocs.io/en/stable/user_install.html\n",
      "  from .autonotebook import tqdm as notebook_tqdm\n"
     ]
    }
   ],
   "source": [
    "import sys, os\n",
    "import torch, wandb\n",
    "import torch.nn as nn\n",
    "from torch.utils.data import DataLoader\n",
    "sys.path.append(os.path.abspath(os.path.join(os.curdir, '..')))\n",
    "from configs import extended_unet_config as config\n",
    "from models.unet_mit import Unet\n",
    "from datasets.combination_depth_dataset import CombDepthDataset\n",
    "from utils.train_utils import train_model\n",
    "import utils.train_utils as tu\n",
    "from utils.train_utils import evaluate_model\n",
    "import importlib"
   ]
  },
  {
   "cell_type": "code",
   "execution_count": 2,
   "id": "a6233118",
   "metadata": {},
   "outputs": [
    {
     "name": "stdout",
     "output_type": "stream",
     "text": [
      "Train size: 20375, Validation size: 3596, Test size: 650\n"
     ]
    }
   ],
   "source": [
    "# Set a fixed random seed for reproducibility\n",
    "torch.manual_seed(config.random_seed)\n",
    "\n",
    "train_full_dataset = CombDepthDataset(\n",
    "    data_dir=os.path.join(config.dataset_path, 'train/train'),\n",
    "    depths_dir=config.depth_maps_path,\n",
    "    list_file=os.path.join(config.dataset_path, 'train_list.txt'),\n",
    "    transform=config.padded_transform,\n",
    "    target_transform=config.target_transform,\n",
    "    has_gt=True,\n",
    "    depth_model_names=config.depth_model_names,\n",
    "    uncertainty_dir=\"/home/v.lomtev/CIL/CIL_2025/data/uncertainty map/train\",\n",
    "    use_uncertainty=True)\n",
    "    \n",
    "    # Create test dataset without ground truth\n",
    "test_dataset = CombDepthDataset(\n",
    "    data_dir=os.path.join(config.dataset_path, 'test/test'),\n",
    "    depths_dir=os.path.join(config.depth_maps_path, 'test'),\n",
    "    list_file=os.path.join(config.dataset_path, 'test_list.txt'),\n",
    "    transform=config.padded_transform,\n",
    "    has_gt=False,\n",
    "    depth_model_names=config.depth_model_names,\n",
    "    uncertainty_dir=\"/home/v.lomtev/CIL/CIL_2025/data/uncertainty map/test\",\n",
    "    use_uncertainty=True)  # Test set has no ground truth\n",
    "    \n",
    "# Split training dataset into train and validation\n",
    "total_size = len(train_full_dataset)\n",
    "train_size = int((1-config.val_part) * total_size)  \n",
    "val_size = total_size - train_size    \n",
    "    \n",
    "train_dataset, val_dataset = torch.utils.data.random_split(\n",
    "    train_full_dataset, [train_size, val_size]\n",
    ")\n",
    "#val_dataset.transform = config.transform_val # I dont think we need to use augmentations for validation\n",
    "\n",
    "\n",
    "# Create data loaders with memory optimizations\n",
    "train_loader = DataLoader(\n",
    "    train_dataset, \n",
    "    batch_size=config.train_bs, \n",
    "    shuffle=True, \n",
    "    num_workers=config.num_workers, \n",
    "    pin_memory=True,\n",
    "    drop_last=True,\n",
    "    persistent_workers=True,\n",
    ")\n",
    "    \n",
    "    \n",
    "val_loader = DataLoader(\n",
    "    val_dataset, \n",
    "    batch_size=config.val_bs, \n",
    "    shuffle=False, \n",
    "    num_workers=config.num_workers, \n",
    "    pin_memory=True\n",
    ")\n",
    "    \n",
    "test_loader = DataLoader(\n",
    "    test_dataset, \n",
    "    batch_size=config.val_bs, \n",
    "    shuffle=False, \n",
    "    num_workers=config.num_workers, \n",
    "    pin_memory=True\n",
    ")\n",
    "\n",
    "print(f\"Train size: {len(train_dataset)}, Validation size: {len(val_dataset)}, Test size: {len(test_dataset)}\")"
   ]
  },
  {
   "cell_type": "code",
   "execution_count": 3,
   "id": "cea10740",
   "metadata": {},
   "outputs": [
    {
     "name": "stdout",
     "output_type": "stream",
     "text": [
      "Num channels: 8\n",
      "Using device: cuda:0\n"
     ]
    }
   ],
   "source": [
    "model = config.model()\n",
    "\n",
    "\n",
    "optimizer = config.optimizer(model.parameters())\n",
    "print(f\"Using device: {config.device}\")"
   ]
  },
  {
   "cell_type": "code",
   "execution_count": 5,
   "id": "e3393a83",
   "metadata": {},
   "outputs": [
    {
     "name": "stdout",
     "output_type": "stream",
     "text": [
      "Starting training...\n"
     ]
    },
    {
     "name": "stderr",
     "output_type": "stream",
     "text": [
      "\u001b[34m\u001b[1mwandb\u001b[0m: Currently logged in as: \u001b[33mnoloo\u001b[0m to \u001b[32mhttps://api.wandb.ai\u001b[0m. Use \u001b[1m`wandb login --relogin`\u001b[0m to force relogin\n"
     ]
    },
    {
     "data": {
      "text/html": [
       "Tracking run with wandb version 0.19.11"
      ],
      "text/plain": [
       "<IPython.core.display.HTML object>"
      ]
     },
     "metadata": {},
     "output_type": "display_data"
    },
    {
     "data": {
      "text/html": [
       "Run data is saved locally in <code>/home/v.lomtev/CIL/CIL_2025/notebooks/wandb/run-20250529_070500-2sl6mrpt</code>"
      ],
      "text/plain": [
       "<IPython.core.display.HTML object>"
      ]
     },
     "metadata": {},
     "output_type": "display_data"
    },
    {
     "data": {
      "text/html": [
       "Syncing run <strong><a href='https://wandb.ai/noloo/MonocularDepthEstimation/runs/2sl6mrpt' target=\"_blank\">summer-galaxy-13</a></strong> to <a href='https://wandb.ai/noloo/MonocularDepthEstimation' target=\"_blank\">Weights & Biases</a> (<a href='https://wandb.me/developer-guide' target=\"_blank\">docs</a>)<br>"
      ],
      "text/plain": [
       "<IPython.core.display.HTML object>"
      ]
     },
     "metadata": {},
     "output_type": "display_data"
    },
    {
     "data": {
      "text/html": [
       " View project at <a href='https://wandb.ai/noloo/MonocularDepthEstimation' target=\"_blank\">https://wandb.ai/noloo/MonocularDepthEstimation</a>"
      ],
      "text/plain": [
       "<IPython.core.display.HTML object>"
      ]
     },
     "metadata": {},
     "output_type": "display_data"
    },
    {
     "data": {
      "text/html": [
       " View run at <a href='https://wandb.ai/noloo/MonocularDepthEstimation/runs/2sl6mrpt' target=\"_blank\">https://wandb.ai/noloo/MonocularDepthEstimation/runs/2sl6mrpt</a>"
      ],
      "text/plain": [
       "<IPython.core.display.HTML object>"
      ]
     },
     "metadata": {},
     "output_type": "display_data"
    },
    {
     "name": "stdout",
     "output_type": "stream",
     "text": [
      "Epoch 1/50\n"
     ]
    },
    {
     "name": "stderr",
     "output_type": "stream",
     "text": [
      "Training: 100%|█████████████████████████████████████████████████████████████████████████████████████████████████████████████████████████████████████████████████████████| 2546/2546 [08:46<00:00,  4.84it/s]\n",
      "Validation: 100%|█████████████████████████████████████████████████████████████████████████████████████████████████████████████████████████████████████████████████████████| 225/225 [00:45<00:00,  4.91it/s]\n"
     ]
    },
    {
     "name": "stdout",
     "output_type": "stream",
     "text": [
      "Train Loss: 0.3109, Validation Loss: 0.1861\n",
      "New best model saved at epoch 1 with validation loss: 0.1861\n",
      "Epoch 2/50\n"
     ]
    },
    {
     "name": "stderr",
     "output_type": "stream",
     "text": [
      "Training:  36%|███████████████████████████████████████████████████████                                                                                                   | 911/2546 [03:08<05:36,  4.87it/s]IOPub message rate exceeded.\n",
      "The Jupyter server will temporarily stop sending output\n",
      "to the client in order to avoid crashing it.\n",
      "To change this limit, set the config variable\n",
      "`--ServerApp.iopub_msg_rate_limit`.\n",
      "\n",
      "Current values:\n",
      "ServerApp.iopub_msg_rate_limit=1000.0 (msgs/sec)\n",
      "ServerApp.rate_limit_window=3.0 (secs)\n",
      "\n",
      "Training: 100%|█████████████████████████████████████████████████████████████████████████████████████████████████████████████████████████████████████████████████████████| 2546/2546 [08:43<00:00,  4.86it/s]\n",
      "Validation: 100%|█████████████████████████████████████████████████████████████████████████████████████████████████████████████████████████████████████████████████████████| 225/225 [00:42<00:00,  5.33it/s]\n"
     ]
    },
    {
     "name": "stdout",
     "output_type": "stream",
     "text": [
      "Train Loss: 0.0978, Validation Loss: 0.1217\n",
      "Epoch 37/50\n"
     ]
    },
    {
     "name": "stderr",
     "output_type": "stream",
     "text": [
      "Training:  71%|████████████████████████████████████████████████████████████████████████████████████████████████████████████▉                                            | 1812/2546 [06:12<02:30,  4.88it/s]IOPub message rate exceeded.\n",
      "The Jupyter server will temporarily stop sending output\n",
      "to the client in order to avoid crashing it.\n",
      "To change this limit, set the config variable\n",
      "`--ServerApp.iopub_msg_rate_limit`.\n",
      "\n",
      "Current values:\n",
      "ServerApp.iopub_msg_rate_limit=1000.0 (msgs/sec)\n",
      "ServerApp.rate_limit_window=3.0 (secs)\n",
      "\n"
     ]
    }
   ],
   "source": [
    "# Wandb logging\n",
    "exp_name = \"extended_unet_sota_depths_pretrain_uncertainty\"\n",
    "\n",
    "print(\"Starting training...\")\n",
    "with wandb.init(project=\"MonocularDepthEstimation\",  #CIL\n",
    "                save_code=True,\n",
    "                notes=config.WANDB_NOTES):\n",
    "    model = train_model(model, train_loader, val_loader,\n",
    "                        config.loss, optimizer, 50, config.device,\n",
    "                       exp_path=os.path.join(config.dataset_path, exp_name),\n",
    "                       is_extended_model=True, use_uncertainty_map=True)"
   ]
  },
  {
   "cell_type": "code",
   "execution_count": 7,
   "id": "fe2af4fe-bb30-419c-a8d1-d50583b8dbf8",
   "metadata": {},
   "outputs": [
    {
     "name": "stderr",
     "output_type": "stream",
     "text": [
      "Generating Test Predictions: 100%|██████████████████████████████████████████████████████████████████████████████████████████████████████████████████████████████████████████| 41/41 [00:13<00:00,  3.02it/s]\n"
     ]
    }
   ],
   "source": [
    "tu.generate_test_predictions(model, test_loader, config.device,\n",
    "                          exp_path=os.path.join(config.dataset_path, exp_name),\n",
    "                            is_exntended_model=True)"
   ]
  },
  {
   "cell_type": "code",
   "execution_count": null,
   "id": "b55c3004-cf68-47f9-b5d1-fb203249886d",
   "metadata": {},
   "outputs": [],
   "source": [
    "\n",
    "tu.visualize_test_predictions(model, test_loader, config.device,\n",
    "                              exp_path=os.path.join(config.dataset_path, exp_name), is_exntended_model=True)"
   ]
  },
  {
   "cell_type": "code",
   "execution_count": null,
   "id": "d9dfdd1a-0532-462f-bf9d-81e5a8227ae6",
   "metadata": {},
   "outputs": [],
   "source": []
  }
 ],
 "metadata": {
  "kernelspec": {
   "display_name": "Python 3 (ipykernel)",
   "language": "python",
   "name": "python3"
  },
  "language_info": {
   "codemirror_mode": {
    "name": "ipython",
    "version": 3
   },
   "file_extension": ".py",
   "mimetype": "text/x-python",
   "name": "python",
   "nbconvert_exporter": "python",
   "pygments_lexer": "ipython3",
   "version": "3.12.3"
  }
 },
 "nbformat": 4,
 "nbformat_minor": 5
}
