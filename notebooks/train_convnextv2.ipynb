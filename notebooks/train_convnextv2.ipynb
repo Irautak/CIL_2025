{
 "cells": [
  {
   "cell_type": "code",
   "execution_count": 1,
   "id": "b4e98c8c-0dde-452a-97c4-ca4c0efe6196",
   "metadata": {},
   "outputs": [],
   "source": [
    "import sys, os\n",
    "import torch, wandb\n",
    "import torch.nn as nn\n",
    "from torch.utils.data import DataLoader\n",
    "sys.path.append(os.path.abspath(os.path.join(os.curdir, '..')))"
   ]
  },
  {
   "cell_type": "code",
   "execution_count": 2,
   "id": "2b5588df-df8d-4c86-93c1-94fd6a53bfce",
   "metadata": {},
   "outputs": [
    {
     "name": "stderr",
     "output_type": "stream",
     "text": [
      "/home/v.lomtev/env/python3.12_vlad/lib/python3.12/site-packages/tqdm/auto.py:21: TqdmWarning: IProgress not found. Please update jupyter and ipywidgets. See https://ipywidgets.readthedocs.io/en/stable/user_install.html\n",
      "  from .autonotebook import tqdm as notebook_tqdm\n",
      "/home/v.lomtev/env/python3.12_vlad/lib/python3.12/site-packages/timm/models/layers/__init__.py:48: FutureWarning: Importing from timm.models.layers is deprecated, please import via timm.layers\n",
      "  warnings.warn(f\"Importing from {__name__} is deprecated, please import via timm.layers\", FutureWarning)\n",
      "/home/v.lomtev/env/python3.12_vlad/lib/python3.12/site-packages/albumentations/__init__.py:28: UserWarning: A new version of Albumentations is available: '2.0.8' (you have '2.0.7'). Upgrade using: pip install -U albumentations. To disable automatic update checks, set the environment variable NO_ALBUMENTATIONS_UPDATE to 1.\n",
      "  check_for_updates()\n"
     ]
    }
   ],
   "source": [
    "from configs import unet_convnextv2_config as config\n",
    "from models.unet_convnextv2 import Unet\n",
    "from datasets.depth_dataset import DepthDataset\n",
    "from utils.train_utils import train_model"
   ]
  },
  {
   "cell_type": "code",
   "execution_count": 3,
   "id": "eecced10-33c1-409e-8540-1ecf93762691",
   "metadata": {},
   "outputs": [
    {
     "name": "stdout",
     "output_type": "stream",
     "text": [
      "Train size: 20375, Validation size: 3596, Test size: 650\n"
     ]
    }
   ],
   "source": [
    "# Set a fixed random seed for reproducibility\n",
    "torch.manual_seed(config.random_seed)\n",
    "\n",
    "train_full_dataset = DepthDataset(\n",
    "    data_dir=os.path.join(config.dataset_path, 'train/train'),\n",
    "    list_file=os.path.join(config.dataset_path, 'train_list.txt'), \n",
    "    transform=config.transform_train,\n",
    "    target_transform=config.target_transform,\n",
    "    has_gt=True)\n",
    "    \n",
    "    # Create test dataset without ground truth\n",
    "test_dataset = DepthDataset(\n",
    "    data_dir=os.path.join(config.dataset_path, 'test/test'),\n",
    "    list_file=os.path.join(config.dataset_path, 'test_list.txt'),\n",
    "    transform=config.transform_val,\n",
    "    has_gt=False)  # Test set has no ground truth\n",
    "    \n",
    "# Split training dataset into train and validation\n",
    "total_size = len(train_full_dataset)\n",
    "train_size = int((1-config.val_part) * total_size)  \n",
    "val_size = total_size - train_size    \n",
    "    \n",
    "train_dataset, val_dataset = torch.utils.data.random_split(\n",
    "    train_full_dataset, [train_size, val_size]\n",
    ")\n",
    "#val_dataset.transform = config.transform_val # I dont think we need to use augmentations for validation\n",
    "\n",
    "# Create data loaders with memory optimizations\n",
    "train_loader = DataLoader(\n",
    "    train_dataset, \n",
    "    batch_size=config.train_bs, \n",
    "    shuffle=True, \n",
    "    num_workers=config.num_workers, \n",
    "    pin_memory=True,\n",
    "    drop_last=True,\n",
    "    persistent_workers=True\n",
    ")\n",
    "    \n",
    "    \n",
    "val_loader = DataLoader(\n",
    "    val_dataset, \n",
    "    batch_size=config.val_bs, \n",
    "    shuffle=False, \n",
    "    num_workers=config.num_workers, \n",
    "    pin_memory=True\n",
    ")\n",
    "    \n",
    "test_loader = DataLoader(\n",
    "    test_dataset, \n",
    "    batch_size=config.val_bs, \n",
    "    shuffle=False, \n",
    "    num_workers=config.num_workers, \n",
    "    pin_memory=True\n",
    ")\n",
    "\n",
    "print(f\"Train size: {len(train_dataset)}, Validation size: {len(val_dataset)}, Test size: {len(test_dataset)}\")"
   ]
  },
  {
   "cell_type": "code",
   "execution_count": 4,
   "id": "08f0b47b-c997-4c83-8f78-2ce6b01e9b94",
   "metadata": {
    "scrolled": true
   },
   "outputs": [
    {
     "name": "stdout",
     "output_type": "stream",
     "text": [
      "Using device: cuda:2\n"
     ]
    }
   ],
   "source": [
    "model = config.model()\n",
    "# #model = nn.DataParallel(model)\n",
    "\n",
    "\n",
    "optimizer = config.optimizer(model.parameters())\n",
    "print(f\"Using device: {config.device}\")\n"
   ]
  },
  {
   "cell_type": "code",
   "execution_count": 5,
   "id": "3b6d3abe-83a2-40ba-9fb7-cf614cba54d0",
   "metadata": {},
   "outputs": [],
   "source": [
    "exp_name = \"convnextv2_mixedloss_sil_msgil_2\""
   ]
  },
  {
   "cell_type": "code",
   "execution_count": null,
   "id": "35007cf9-9d7d-4324-b701-0f1cf6b987d4",
   "metadata": {
    "scrolled": true
   },
   "outputs": [
    {
     "name": "stdout",
     "output_type": "stream",
     "text": [
      "Starting training...\n"
     ]
    },
    {
     "name": "stderr",
     "output_type": "stream",
     "text": [
      "\u001b[34m\u001b[1mwandb\u001b[0m: Currently logged in as: \u001b[33mnoloo\u001b[0m to \u001b[32mhttps://api.wandb.ai\u001b[0m. Use \u001b[1m`wandb login --relogin`\u001b[0m to force relogin\n"
     ]
    },
    {
     "data": {
      "text/html": [
       "Tracking run with wandb version 0.19.11"
      ],
      "text/plain": [
       "<IPython.core.display.HTML object>"
      ]
     },
     "metadata": {},
     "output_type": "display_data"
    },
    {
     "data": {
      "text/html": [
       "Run data is saved locally in <code>/home/v.lomtev/CIL/CIL_2025/notebooks/wandb/run-20250530_054542-v1tvajyl</code>"
      ],
      "text/plain": [
       "<IPython.core.display.HTML object>"
      ]
     },
     "metadata": {},
     "output_type": "display_data"
    },
    {
     "data": {
      "text/html": [
       "Syncing run <strong><a href='https://wandb.ai/noloo/CIL/runs/v1tvajyl' target=\"_blank\">atomic-sun-83</a></strong> to <a href='https://wandb.ai/noloo/CIL' target=\"_blank\">Weights & Biases</a> (<a href='https://wandb.me/developer-guide' target=\"_blank\">docs</a>)<br>"
      ],
      "text/plain": [
       "<IPython.core.display.HTML object>"
      ]
     },
     "metadata": {},
     "output_type": "display_data"
    },
    {
     "data": {
      "text/html": [
       " View project at <a href='https://wandb.ai/noloo/CIL' target=\"_blank\">https://wandb.ai/noloo/CIL</a>"
      ],
      "text/plain": [
       "<IPython.core.display.HTML object>"
      ]
     },
     "metadata": {},
     "output_type": "display_data"
    },
    {
     "data": {
      "text/html": [
       " View run at <a href='https://wandb.ai/noloo/CIL/runs/v1tvajyl' target=\"_blank\">https://wandb.ai/noloo/CIL/runs/v1tvajyl</a>"
      ],
      "text/plain": [
       "<IPython.core.display.HTML object>"
      ]
     },
     "metadata": {},
     "output_type": "display_data"
    },
    {
     "name": "stdout",
     "output_type": "stream",
     "text": [
      "Epoch 1/45\n"
     ]
    },
    {
     "name": "stderr",
     "output_type": "stream",
     "text": [
      "Training:  16%|█████████████████████████                                                                                                                                 | 207/1273 [01:24<07:07,  2.49it/s]"
     ]
    }
   ],
   "source": [
    "print(\"Starting training...\")\n",
    "with wandb.init(project=\"CIL\",\n",
    "                save_code=True,\n",
    "                notes=config.WANDB_NOTES):\n",
    "    model = train_model(model, train_loader, val_loader,\n",
    "                        config.loss, optimizer, config.epochs, config.device,\n",
    "                       exp_path=os.path.join(config.dataset_path, exp_name))"
   ]
  },
  {
   "cell_type": "code",
   "execution_count": null,
   "id": "324756ad-f148-42a9-a5fc-4e642936a31f",
   "metadata": {},
   "outputs": [],
   "source": [
    "import utils.train_utils as tu\n",
    "tu.evaluate_model(model, val_loader, config.device,\n",
    "                  exp_path=os.path.join(config.dataset_path, exp_name))"
   ]
  },
  {
   "cell_type": "code",
   "execution_count": null,
   "id": "6da9c05b-9ac2-48fa-b9d6-74aaa4ba274d",
   "metadata": {},
   "outputs": [],
   "source": [
    "\n",
    "tu.generate_test_predictions(model, test_loader, config.device,\n",
    "                             exp_path=os.path.join(config.dataset_path, exp_name))"
   ]
  },
  {
   "cell_type": "code",
   "execution_count": null,
   "id": "d5ea0917-69ee-493d-bdeb-8aa04bc375d3",
   "metadata": {},
   "outputs": [],
   "source": [
    "\n",
    "tu.visualize_test_predictions(model, test_loader, config.device,\n",
    "                              exp_path=os.path.join(config.dataset_path, exp_name))"
   ]
  },
  {
   "cell_type": "code",
   "execution_count": null,
   "id": "15927917-b416-440c-9488-25d4cb4ac7a7",
   "metadata": {},
   "outputs": [],
   "source": [
    "torch.cuda.empty_cache()"
   ]
  }
 ],
 "metadata": {
  "kernelspec": {
   "display_name": "Python 3 (ipykernel)",
   "language": "python",
   "name": "python3"
  },
  "language_info": {
   "codemirror_mode": {
    "name": "ipython",
    "version": 3
   },
   "file_extension": ".py",
   "mimetype": "text/x-python",
   "name": "python",
   "nbconvert_exporter": "python",
   "pygments_lexer": "ipython3",
   "version": "3.12.3"
  }
 },
 "nbformat": 4,
 "nbformat_minor": 5
}
