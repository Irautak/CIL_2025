{
 "cells": [
  {
   "cell_type": "code",
   "execution_count": 1,
   "id": "04a81384-d889-43a1-9ad2-b6b1242dfcd3",
   "metadata": {},
   "outputs": [],
   "source": [
    "import kaggle"
   ]
  },
  {
   "cell_type": "code",
   "execution_count": 2,
   "id": "88bcd2b7-d926-46ad-ad8f-9f8addad7800",
   "metadata": {},
   "outputs": [
    {
     "name": "stdout",
     "output_type": "stream",
     "text": [
      "Downloading ethz-cil-monocular-depth-estimation-2025.zip to ./data\n"
     ]
    },
    {
     "name": "stderr",
     "output_type": "stream",
     "text": [
      "100%|██████████████████████████████████████████████████████████████████████████████████████████████████████████████████████████████████████████████████████████████████| 7.98G/7.98G [09:27<00:00, 15.1MB/s]\n"
     ]
    },
    {
     "name": "stdout",
     "output_type": "stream",
     "text": [
      "\n",
      "Competition data successfully downloaded to ./data\n"
     ]
    }
   ],
   "source": [
    "import os\n",
    "### YOU NEED TO IMPORT A KEY FROM KAGGLE UI TO USE THIS\n",
    "\n",
    "def download_competition_data(competition_name, save_path='.'):\n",
    "    \"\"\"\n",
    "    Download competition data from Kaggle\n",
    "    \n",
    "    Args:\n",
    "        competition_name (str): Name of the competition\n",
    "        save_path (str): Path where to save the competition data\n",
    "    \"\"\"\n",
    "    try:\n",
    "        # Create the save directory if it doesn't exist\n",
    "        os.makedirs(save_path, exist_ok=True)\n",
    "        \n",
    "        # Download the competition files \n",
    "        kaggle.api.competition_download_files(\n",
    "            competition_name,\n",
    "            path=save_path,\n",
    "            quiet=False,  # Set to True to hide the progress bar\n",
    "            force=False   # Set to True to force download even if files exist\n",
    "        )\n",
    "        \n",
    "        # Unzip the downloaded files\n",
    "        zip_file = f\"{save_path}/{competition_name}.zip\"\n",
    "        if os.path.exists(zip_file):\n",
    "            import zipfile\n",
    "            with zipfile.ZipFile(zip_file, 'r') as zip_ref:\n",
    "                zip_ref.extractall(save_path)\n",
    "            # Optionally remove the zip file after extraction\n",
    "            os.remove(zip_file)\n",
    "            \n",
    "        print(f\"Competition data successfully downloaded to {save_path}\")\n",
    "        \n",
    "    except Exception as e:\n",
    "        print(f\"Error downloading competition data: {e}\")\n",
    "\n",
    "\n",
    "    # Example usage\n",
    "competition_name = \"ethz-cil-monocular-depth-estimation-2025\"\n",
    "save_path = \"./data\"\n",
    "    \n",
    "download_competition_data(competition_name, save_path)"
   ]
  },
  {
   "cell_type": "code",
   "execution_count": 3,
   "id": "904a71b4-f8da-4b4c-9f6b-d906c989d8d9",
   "metadata": {},
   "outputs": [],
   "source": [
    "import numpy as np\n",
    "path = \"/home/v.lomtev/CIL/data/train/train/sample_000000_depth.npy\"\n",
    "depth = np.load(path).astype(np.float32)"
   ]
  },
  {
   "cell_type": "code",
   "execution_count": 4,
   "id": "c030e36d-6f6b-4a8c-bb10-b731477fdb9a",
   "metadata": {},
   "outputs": [
    {
     "data": {
      "text/plain": [
       "(426, 560)"
      ]
     },
     "execution_count": 4,
     "metadata": {},
     "output_type": "execute_result"
    }
   ],
   "source": [
    "depth.shape"
   ]
  },
  {
   "cell_type": "code",
   "execution_count": null,
   "id": "e8fc842d-ef39-467f-8131-6c8f90e63369",
   "metadata": {},
   "outputs": [],
   "source": []
  }
 ],
 "metadata": {
  "kernelspec": {
   "display_name": "Python 3 (ipykernel)",
   "language": "python",
   "name": "python3"
  },
  "language_info": {
   "codemirror_mode": {
    "name": "ipython",
    "version": 3
   },
   "file_extension": ".py",
   "mimetype": "text/x-python",
   "name": "python",
   "nbconvert_exporter": "python",
   "pygments_lexer": "ipython3",
   "version": "3.12.3"
  }
 },
 "nbformat": 4,
 "nbformat_minor": 5
}
